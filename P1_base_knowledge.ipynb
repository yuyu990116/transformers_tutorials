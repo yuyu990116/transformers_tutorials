{
  "nbformat": 4,
  "nbformat_minor": 0,
  "metadata": {
    "colab": {
      "provenance": [],
      "authorship_tag": "ABX9TyNx49bRJkjyFf7Ub3bZtlPb",
      "include_colab_link": true
    },
    "kernelspec": {
      "name": "python3",
      "display_name": "Python 3"
    },
    "language_info": {
      "name": "python"
    },
    "widgets": {
      "application/vnd.jupyter.widget-state+json": {
        "69c895d480bd43b3a4e5e0cc987ac02b": {
          "model_module": "@jupyter-widgets/controls",
          "model_name": "HBoxModel",
          "model_module_version": "1.5.0",
          "state": {
            "_dom_classes": [],
            "_model_module": "@jupyter-widgets/controls",
            "_model_module_version": "1.5.0",
            "_model_name": "HBoxModel",
            "_view_count": null,
            "_view_module": "@jupyter-widgets/controls",
            "_view_module_version": "1.5.0",
            "_view_name": "HBoxView",
            "box_style": "",
            "children": [
              "IPY_MODEL_00c285d9fa4740d989caba5f7d454e81",
              "IPY_MODEL_82f71113d3724d20bb4658ffb59f407a",
              "IPY_MODEL_edef4d48b37042dcbda8a552cbc82680"
            ],
            "layout": "IPY_MODEL_e909a2e4bfb54a5fa3c5580a6b7aff74"
          }
        },
        "00c285d9fa4740d989caba5f7d454e81": {
          "model_module": "@jupyter-widgets/controls",
          "model_name": "HTMLModel",
          "model_module_version": "1.5.0",
          "state": {
            "_dom_classes": [],
            "_model_module": "@jupyter-widgets/controls",
            "_model_module_version": "1.5.0",
            "_model_name": "HTMLModel",
            "_view_count": null,
            "_view_module": "@jupyter-widgets/controls",
            "_view_module_version": "1.5.0",
            "_view_name": "HTMLView",
            "description": "",
            "description_tooltip": null,
            "layout": "IPY_MODEL_97b4b3c02d5f46deb41b2ab1047fabbd",
            "placeholder": "​",
            "style": "IPY_MODEL_221c1d5a38214365ad4a76232207886b",
            "value": "Map: 100%"
          }
        },
        "82f71113d3724d20bb4658ffb59f407a": {
          "model_module": "@jupyter-widgets/controls",
          "model_name": "FloatProgressModel",
          "model_module_version": "1.5.0",
          "state": {
            "_dom_classes": [],
            "_model_module": "@jupyter-widgets/controls",
            "_model_module_version": "1.5.0",
            "_model_name": "FloatProgressModel",
            "_view_count": null,
            "_view_module": "@jupyter-widgets/controls",
            "_view_module_version": "1.5.0",
            "_view_name": "ProgressView",
            "bar_style": "success",
            "description": "",
            "description_tooltip": null,
            "layout": "IPY_MODEL_2a3a9715ea78470f86c701bdd6480628",
            "max": 9600,
            "min": 0,
            "orientation": "horizontal",
            "style": "IPY_MODEL_07cbbef6df3749fd87bea2b94895e52e",
            "value": 9600
          }
        },
        "edef4d48b37042dcbda8a552cbc82680": {
          "model_module": "@jupyter-widgets/controls",
          "model_name": "HTMLModel",
          "model_module_version": "1.5.0",
          "state": {
            "_dom_classes": [],
            "_model_module": "@jupyter-widgets/controls",
            "_model_module_version": "1.5.0",
            "_model_name": "HTMLModel",
            "_view_count": null,
            "_view_module": "@jupyter-widgets/controls",
            "_view_module_version": "1.5.0",
            "_view_name": "HTMLView",
            "description": "",
            "description_tooltip": null,
            "layout": "IPY_MODEL_7c8e527d66284999bebad5b929ef64f0",
            "placeholder": "​",
            "style": "IPY_MODEL_ab26d77b87f0495f8d5de536e7df1969",
            "value": " 9600/9600 [00:04&lt;00:00, 2004.07 examples/s]"
          }
        },
        "e909a2e4bfb54a5fa3c5580a6b7aff74": {
          "model_module": "@jupyter-widgets/base",
          "model_name": "LayoutModel",
          "model_module_version": "1.2.0",
          "state": {
            "_model_module": "@jupyter-widgets/base",
            "_model_module_version": "1.2.0",
            "_model_name": "LayoutModel",
            "_view_count": null,
            "_view_module": "@jupyter-widgets/base",
            "_view_module_version": "1.2.0",
            "_view_name": "LayoutView",
            "align_content": null,
            "align_items": null,
            "align_self": null,
            "border": null,
            "bottom": null,
            "display": null,
            "flex": null,
            "flex_flow": null,
            "grid_area": null,
            "grid_auto_columns": null,
            "grid_auto_flow": null,
            "grid_auto_rows": null,
            "grid_column": null,
            "grid_gap": null,
            "grid_row": null,
            "grid_template_areas": null,
            "grid_template_columns": null,
            "grid_template_rows": null,
            "height": null,
            "justify_content": null,
            "justify_items": null,
            "left": null,
            "margin": null,
            "max_height": null,
            "max_width": null,
            "min_height": null,
            "min_width": null,
            "object_fit": null,
            "object_position": null,
            "order": null,
            "overflow": null,
            "overflow_x": null,
            "overflow_y": null,
            "padding": null,
            "right": null,
            "top": null,
            "visibility": null,
            "width": null
          }
        },
        "97b4b3c02d5f46deb41b2ab1047fabbd": {
          "model_module": "@jupyter-widgets/base",
          "model_name": "LayoutModel",
          "model_module_version": "1.2.0",
          "state": {
            "_model_module": "@jupyter-widgets/base",
            "_model_module_version": "1.2.0",
            "_model_name": "LayoutModel",
            "_view_count": null,
            "_view_module": "@jupyter-widgets/base",
            "_view_module_version": "1.2.0",
            "_view_name": "LayoutView",
            "align_content": null,
            "align_items": null,
            "align_self": null,
            "border": null,
            "bottom": null,
            "display": null,
            "flex": null,
            "flex_flow": null,
            "grid_area": null,
            "grid_auto_columns": null,
            "grid_auto_flow": null,
            "grid_auto_rows": null,
            "grid_column": null,
            "grid_gap": null,
            "grid_row": null,
            "grid_template_areas": null,
            "grid_template_columns": null,
            "grid_template_rows": null,
            "height": null,
            "justify_content": null,
            "justify_items": null,
            "left": null,
            "margin": null,
            "max_height": null,
            "max_width": null,
            "min_height": null,
            "min_width": null,
            "object_fit": null,
            "object_position": null,
            "order": null,
            "overflow": null,
            "overflow_x": null,
            "overflow_y": null,
            "padding": null,
            "right": null,
            "top": null,
            "visibility": null,
            "width": null
          }
        },
        "221c1d5a38214365ad4a76232207886b": {
          "model_module": "@jupyter-widgets/controls",
          "model_name": "DescriptionStyleModel",
          "model_module_version": "1.5.0",
          "state": {
            "_model_module": "@jupyter-widgets/controls",
            "_model_module_version": "1.5.0",
            "_model_name": "DescriptionStyleModel",
            "_view_count": null,
            "_view_module": "@jupyter-widgets/base",
            "_view_module_version": "1.2.0",
            "_view_name": "StyleView",
            "description_width": ""
          }
        },
        "2a3a9715ea78470f86c701bdd6480628": {
          "model_module": "@jupyter-widgets/base",
          "model_name": "LayoutModel",
          "model_module_version": "1.2.0",
          "state": {
            "_model_module": "@jupyter-widgets/base",
            "_model_module_version": "1.2.0",
            "_model_name": "LayoutModel",
            "_view_count": null,
            "_view_module": "@jupyter-widgets/base",
            "_view_module_version": "1.2.0",
            "_view_name": "LayoutView",
            "align_content": null,
            "align_items": null,
            "align_self": null,
            "border": null,
            "bottom": null,
            "display": null,
            "flex": null,
            "flex_flow": null,
            "grid_area": null,
            "grid_auto_columns": null,
            "grid_auto_flow": null,
            "grid_auto_rows": null,
            "grid_column": null,
            "grid_gap": null,
            "grid_row": null,
            "grid_template_areas": null,
            "grid_template_columns": null,
            "grid_template_rows": null,
            "height": null,
            "justify_content": null,
            "justify_items": null,
            "left": null,
            "margin": null,
            "max_height": null,
            "max_width": null,
            "min_height": null,
            "min_width": null,
            "object_fit": null,
            "object_position": null,
            "order": null,
            "overflow": null,
            "overflow_x": null,
            "overflow_y": null,
            "padding": null,
            "right": null,
            "top": null,
            "visibility": null,
            "width": null
          }
        },
        "07cbbef6df3749fd87bea2b94895e52e": {
          "model_module": "@jupyter-widgets/controls",
          "model_name": "ProgressStyleModel",
          "model_module_version": "1.5.0",
          "state": {
            "_model_module": "@jupyter-widgets/controls",
            "_model_module_version": "1.5.0",
            "_model_name": "ProgressStyleModel",
            "_view_count": null,
            "_view_module": "@jupyter-widgets/base",
            "_view_module_version": "1.2.0",
            "_view_name": "StyleView",
            "bar_color": null,
            "description_width": ""
          }
        },
        "7c8e527d66284999bebad5b929ef64f0": {
          "model_module": "@jupyter-widgets/base",
          "model_name": "LayoutModel",
          "model_module_version": "1.2.0",
          "state": {
            "_model_module": "@jupyter-widgets/base",
            "_model_module_version": "1.2.0",
            "_model_name": "LayoutModel",
            "_view_count": null,
            "_view_module": "@jupyter-widgets/base",
            "_view_module_version": "1.2.0",
            "_view_name": "LayoutView",
            "align_content": null,
            "align_items": null,
            "align_self": null,
            "border": null,
            "bottom": null,
            "display": null,
            "flex": null,
            "flex_flow": null,
            "grid_area": null,
            "grid_auto_columns": null,
            "grid_auto_flow": null,
            "grid_auto_rows": null,
            "grid_column": null,
            "grid_gap": null,
            "grid_row": null,
            "grid_template_areas": null,
            "grid_template_columns": null,
            "grid_template_rows": null,
            "height": null,
            "justify_content": null,
            "justify_items": null,
            "left": null,
            "margin": null,
            "max_height": null,
            "max_width": null,
            "min_height": null,
            "min_width": null,
            "object_fit": null,
            "object_position": null,
            "order": null,
            "overflow": null,
            "overflow_x": null,
            "overflow_y": null,
            "padding": null,
            "right": null,
            "top": null,
            "visibility": null,
            "width": null
          }
        },
        "ab26d77b87f0495f8d5de536e7df1969": {
          "model_module": "@jupyter-widgets/controls",
          "model_name": "DescriptionStyleModel",
          "model_module_version": "1.5.0",
          "state": {
            "_model_module": "@jupyter-widgets/controls",
            "_model_module_version": "1.5.0",
            "_model_name": "DescriptionStyleModel",
            "_view_count": null,
            "_view_module": "@jupyter-widgets/base",
            "_view_module_version": "1.2.0",
            "_view_name": "StyleView",
            "description_width": ""
          }
        },
        "182fcd0cf4e740eba34a318535418ea9": {
          "model_module": "@jupyter-widgets/controls",
          "model_name": "HBoxModel",
          "model_module_version": "1.5.0",
          "state": {
            "_dom_classes": [],
            "_model_module": "@jupyter-widgets/controls",
            "_model_module_version": "1.5.0",
            "_model_name": "HBoxModel",
            "_view_count": null,
            "_view_module": "@jupyter-widgets/controls",
            "_view_module_version": "1.5.0",
            "_view_name": "HBoxView",
            "box_style": "",
            "children": [
              "IPY_MODEL_8486e92d44584872b05c7885240e80e5",
              "IPY_MODEL_438d351556f2476788148c9c4d586ca4",
              "IPY_MODEL_d50f6173cedf4de6ae6d5ce9ecc04c56"
            ],
            "layout": "IPY_MODEL_c916f193ad2849258fb7495449c07bb6"
          }
        },
        "8486e92d44584872b05c7885240e80e5": {
          "model_module": "@jupyter-widgets/controls",
          "model_name": "HTMLModel",
          "model_module_version": "1.5.0",
          "state": {
            "_dom_classes": [],
            "_model_module": "@jupyter-widgets/controls",
            "_model_module_version": "1.5.0",
            "_model_name": "HTMLModel",
            "_view_count": null,
            "_view_module": "@jupyter-widgets/controls",
            "_view_module_version": "1.5.0",
            "_view_name": "HTMLView",
            "description": "",
            "description_tooltip": null,
            "layout": "IPY_MODEL_ff86b47fd6cc4f88b173553736eebf48",
            "placeholder": "​",
            "style": "IPY_MODEL_bd7e85d3acf94a94b9efbe5721dbc364",
            "value": "Map: 100%"
          }
        },
        "438d351556f2476788148c9c4d586ca4": {
          "model_module": "@jupyter-widgets/controls",
          "model_name": "FloatProgressModel",
          "model_module_version": "1.5.0",
          "state": {
            "_dom_classes": [],
            "_model_module": "@jupyter-widgets/controls",
            "_model_module_version": "1.5.0",
            "_model_name": "FloatProgressModel",
            "_view_count": null,
            "_view_module": "@jupyter-widgets/controls",
            "_view_module_version": "1.5.0",
            "_view_name": "ProgressView",
            "bar_style": "success",
            "description": "",
            "description_tooltip": null,
            "layout": "IPY_MODEL_94174a7e06744f51b338db0106eaf5e2",
            "max": 1200,
            "min": 0,
            "orientation": "horizontal",
            "style": "IPY_MODEL_4714d86fb01b4ebd84f51eb0b0ce9526",
            "value": 1200
          }
        },
        "d50f6173cedf4de6ae6d5ce9ecc04c56": {
          "model_module": "@jupyter-widgets/controls",
          "model_name": "HTMLModel",
          "model_module_version": "1.5.0",
          "state": {
            "_dom_classes": [],
            "_model_module": "@jupyter-widgets/controls",
            "_model_module_version": "1.5.0",
            "_model_name": "HTMLModel",
            "_view_count": null,
            "_view_module": "@jupyter-widgets/controls",
            "_view_module_version": "1.5.0",
            "_view_name": "HTMLView",
            "description": "",
            "description_tooltip": null,
            "layout": "IPY_MODEL_bab30f04ad824310870a79c44c049479",
            "placeholder": "​",
            "style": "IPY_MODEL_4e70e002f48641598d6398223ffb370a",
            "value": " 1200/1200 [00:00&lt;00:00, 2005.79 examples/s]"
          }
        },
        "c916f193ad2849258fb7495449c07bb6": {
          "model_module": "@jupyter-widgets/base",
          "model_name": "LayoutModel",
          "model_module_version": "1.2.0",
          "state": {
            "_model_module": "@jupyter-widgets/base",
            "_model_module_version": "1.2.0",
            "_model_name": "LayoutModel",
            "_view_count": null,
            "_view_module": "@jupyter-widgets/base",
            "_view_module_version": "1.2.0",
            "_view_name": "LayoutView",
            "align_content": null,
            "align_items": null,
            "align_self": null,
            "border": null,
            "bottom": null,
            "display": null,
            "flex": null,
            "flex_flow": null,
            "grid_area": null,
            "grid_auto_columns": null,
            "grid_auto_flow": null,
            "grid_auto_rows": null,
            "grid_column": null,
            "grid_gap": null,
            "grid_row": null,
            "grid_template_areas": null,
            "grid_template_columns": null,
            "grid_template_rows": null,
            "height": null,
            "justify_content": null,
            "justify_items": null,
            "left": null,
            "margin": null,
            "max_height": null,
            "max_width": null,
            "min_height": null,
            "min_width": null,
            "object_fit": null,
            "object_position": null,
            "order": null,
            "overflow": null,
            "overflow_x": null,
            "overflow_y": null,
            "padding": null,
            "right": null,
            "top": null,
            "visibility": null,
            "width": null
          }
        },
        "ff86b47fd6cc4f88b173553736eebf48": {
          "model_module": "@jupyter-widgets/base",
          "model_name": "LayoutModel",
          "model_module_version": "1.2.0",
          "state": {
            "_model_module": "@jupyter-widgets/base",
            "_model_module_version": "1.2.0",
            "_model_name": "LayoutModel",
            "_view_count": null,
            "_view_module": "@jupyter-widgets/base",
            "_view_module_version": "1.2.0",
            "_view_name": "LayoutView",
            "align_content": null,
            "align_items": null,
            "align_self": null,
            "border": null,
            "bottom": null,
            "display": null,
            "flex": null,
            "flex_flow": null,
            "grid_area": null,
            "grid_auto_columns": null,
            "grid_auto_flow": null,
            "grid_auto_rows": null,
            "grid_column": null,
            "grid_gap": null,
            "grid_row": null,
            "grid_template_areas": null,
            "grid_template_columns": null,
            "grid_template_rows": null,
            "height": null,
            "justify_content": null,
            "justify_items": null,
            "left": null,
            "margin": null,
            "max_height": null,
            "max_width": null,
            "min_height": null,
            "min_width": null,
            "object_fit": null,
            "object_position": null,
            "order": null,
            "overflow": null,
            "overflow_x": null,
            "overflow_y": null,
            "padding": null,
            "right": null,
            "top": null,
            "visibility": null,
            "width": null
          }
        },
        "bd7e85d3acf94a94b9efbe5721dbc364": {
          "model_module": "@jupyter-widgets/controls",
          "model_name": "DescriptionStyleModel",
          "model_module_version": "1.5.0",
          "state": {
            "_model_module": "@jupyter-widgets/controls",
            "_model_module_version": "1.5.0",
            "_model_name": "DescriptionStyleModel",
            "_view_count": null,
            "_view_module": "@jupyter-widgets/base",
            "_view_module_version": "1.2.0",
            "_view_name": "StyleView",
            "description_width": ""
          }
        },
        "94174a7e06744f51b338db0106eaf5e2": {
          "model_module": "@jupyter-widgets/base",
          "model_name": "LayoutModel",
          "model_module_version": "1.2.0",
          "state": {
            "_model_module": "@jupyter-widgets/base",
            "_model_module_version": "1.2.0",
            "_model_name": "LayoutModel",
            "_view_count": null,
            "_view_module": "@jupyter-widgets/base",
            "_view_module_version": "1.2.0",
            "_view_name": "LayoutView",
            "align_content": null,
            "align_items": null,
            "align_self": null,
            "border": null,
            "bottom": null,
            "display": null,
            "flex": null,
            "flex_flow": null,
            "grid_area": null,
            "grid_auto_columns": null,
            "grid_auto_flow": null,
            "grid_auto_rows": null,
            "grid_column": null,
            "grid_gap": null,
            "grid_row": null,
            "grid_template_areas": null,
            "grid_template_columns": null,
            "grid_template_rows": null,
            "height": null,
            "justify_content": null,
            "justify_items": null,
            "left": null,
            "margin": null,
            "max_height": null,
            "max_width": null,
            "min_height": null,
            "min_width": null,
            "object_fit": null,
            "object_position": null,
            "order": null,
            "overflow": null,
            "overflow_x": null,
            "overflow_y": null,
            "padding": null,
            "right": null,
            "top": null,
            "visibility": null,
            "width": null
          }
        },
        "4714d86fb01b4ebd84f51eb0b0ce9526": {
          "model_module": "@jupyter-widgets/controls",
          "model_name": "ProgressStyleModel",
          "model_module_version": "1.5.0",
          "state": {
            "_model_module": "@jupyter-widgets/controls",
            "_model_module_version": "1.5.0",
            "_model_name": "ProgressStyleModel",
            "_view_count": null,
            "_view_module": "@jupyter-widgets/base",
            "_view_module_version": "1.2.0",
            "_view_name": "StyleView",
            "bar_color": null,
            "description_width": ""
          }
        },
        "bab30f04ad824310870a79c44c049479": {
          "model_module": "@jupyter-widgets/base",
          "model_name": "LayoutModel",
          "model_module_version": "1.2.0",
          "state": {
            "_model_module": "@jupyter-widgets/base",
            "_model_module_version": "1.2.0",
            "_model_name": "LayoutModel",
            "_view_count": null,
            "_view_module": "@jupyter-widgets/base",
            "_view_module_version": "1.2.0",
            "_view_name": "LayoutView",
            "align_content": null,
            "align_items": null,
            "align_self": null,
            "border": null,
            "bottom": null,
            "display": null,
            "flex": null,
            "flex_flow": null,
            "grid_area": null,
            "grid_auto_columns": null,
            "grid_auto_flow": null,
            "grid_auto_rows": null,
            "grid_column": null,
            "grid_gap": null,
            "grid_row": null,
            "grid_template_areas": null,
            "grid_template_columns": null,
            "grid_template_rows": null,
            "height": null,
            "justify_content": null,
            "justify_items": null,
            "left": null,
            "margin": null,
            "max_height": null,
            "max_width": null,
            "min_height": null,
            "min_width": null,
            "object_fit": null,
            "object_position": null,
            "order": null,
            "overflow": null,
            "overflow_x": null,
            "overflow_y": null,
            "padding": null,
            "right": null,
            "top": null,
            "visibility": null,
            "width": null
          }
        },
        "4e70e002f48641598d6398223ffb370a": {
          "model_module": "@jupyter-widgets/controls",
          "model_name": "DescriptionStyleModel",
          "model_module_version": "1.5.0",
          "state": {
            "_model_module": "@jupyter-widgets/controls",
            "_model_module_version": "1.5.0",
            "_model_name": "DescriptionStyleModel",
            "_view_count": null,
            "_view_module": "@jupyter-widgets/base",
            "_view_module_version": "1.2.0",
            "_view_name": "StyleView",
            "description_width": ""
          }
        },
        "444f655104ed42288f8b1b555baa4a73": {
          "model_module": "@jupyter-widgets/controls",
          "model_name": "HBoxModel",
          "model_module_version": "1.5.0",
          "state": {
            "_dom_classes": [],
            "_model_module": "@jupyter-widgets/controls",
            "_model_module_version": "1.5.0",
            "_model_name": "HBoxModel",
            "_view_count": null,
            "_view_module": "@jupyter-widgets/controls",
            "_view_module_version": "1.5.0",
            "_view_name": "HBoxView",
            "box_style": "",
            "children": [
              "IPY_MODEL_7095f9943f854a0093080d3a0d3013dc",
              "IPY_MODEL_1634755dc99a44219c92e6841209b517",
              "IPY_MODEL_ed0a3f82f6184d6aa23fcbb4798c996b"
            ],
            "layout": "IPY_MODEL_50dc45eba3b046cbac66b84b5e1b5fe3"
          }
        },
        "7095f9943f854a0093080d3a0d3013dc": {
          "model_module": "@jupyter-widgets/controls",
          "model_name": "HTMLModel",
          "model_module_version": "1.5.0",
          "state": {
            "_dom_classes": [],
            "_model_module": "@jupyter-widgets/controls",
            "_model_module_version": "1.5.0",
            "_model_name": "HTMLModel",
            "_view_count": null,
            "_view_module": "@jupyter-widgets/controls",
            "_view_module_version": "1.5.0",
            "_view_name": "HTMLView",
            "description": "",
            "description_tooltip": null,
            "layout": "IPY_MODEL_d66ceabc0d094951a2dfbd872796862c",
            "placeholder": "​",
            "style": "IPY_MODEL_e9b4f65505414a098c8898676c93829d",
            "value": "Map: 100%"
          }
        },
        "1634755dc99a44219c92e6841209b517": {
          "model_module": "@jupyter-widgets/controls",
          "model_name": "FloatProgressModel",
          "model_module_version": "1.5.0",
          "state": {
            "_dom_classes": [],
            "_model_module": "@jupyter-widgets/controls",
            "_model_module_version": "1.5.0",
            "_model_name": "FloatProgressModel",
            "_view_count": null,
            "_view_module": "@jupyter-widgets/controls",
            "_view_module_version": "1.5.0",
            "_view_name": "ProgressView",
            "bar_style": "success",
            "description": "",
            "description_tooltip": null,
            "layout": "IPY_MODEL_1d39805ec58c4a6f80c019414f24a7c8",
            "max": 1200,
            "min": 0,
            "orientation": "horizontal",
            "style": "IPY_MODEL_9a7b442473654e22b170cb5e07022e2e",
            "value": 1200
          }
        },
        "ed0a3f82f6184d6aa23fcbb4798c996b": {
          "model_module": "@jupyter-widgets/controls",
          "model_name": "HTMLModel",
          "model_module_version": "1.5.0",
          "state": {
            "_dom_classes": [],
            "_model_module": "@jupyter-widgets/controls",
            "_model_module_version": "1.5.0",
            "_model_name": "HTMLModel",
            "_view_count": null,
            "_view_module": "@jupyter-widgets/controls",
            "_view_module_version": "1.5.0",
            "_view_name": "HTMLView",
            "description": "",
            "description_tooltip": null,
            "layout": "IPY_MODEL_64365808af3a48688a70825916681879",
            "placeholder": "​",
            "style": "IPY_MODEL_ff93b8131df8491e82619a3ef0916967",
            "value": " 1200/1200 [00:00&lt;00:00, 1840.39 examples/s]"
          }
        },
        "50dc45eba3b046cbac66b84b5e1b5fe3": {
          "model_module": "@jupyter-widgets/base",
          "model_name": "LayoutModel",
          "model_module_version": "1.2.0",
          "state": {
            "_model_module": "@jupyter-widgets/base",
            "_model_module_version": "1.2.0",
            "_model_name": "LayoutModel",
            "_view_count": null,
            "_view_module": "@jupyter-widgets/base",
            "_view_module_version": "1.2.0",
            "_view_name": "LayoutView",
            "align_content": null,
            "align_items": null,
            "align_self": null,
            "border": null,
            "bottom": null,
            "display": null,
            "flex": null,
            "flex_flow": null,
            "grid_area": null,
            "grid_auto_columns": null,
            "grid_auto_flow": null,
            "grid_auto_rows": null,
            "grid_column": null,
            "grid_gap": null,
            "grid_row": null,
            "grid_template_areas": null,
            "grid_template_columns": null,
            "grid_template_rows": null,
            "height": null,
            "justify_content": null,
            "justify_items": null,
            "left": null,
            "margin": null,
            "max_height": null,
            "max_width": null,
            "min_height": null,
            "min_width": null,
            "object_fit": null,
            "object_position": null,
            "order": null,
            "overflow": null,
            "overflow_x": null,
            "overflow_y": null,
            "padding": null,
            "right": null,
            "top": null,
            "visibility": null,
            "width": null
          }
        },
        "d66ceabc0d094951a2dfbd872796862c": {
          "model_module": "@jupyter-widgets/base",
          "model_name": "LayoutModel",
          "model_module_version": "1.2.0",
          "state": {
            "_model_module": "@jupyter-widgets/base",
            "_model_module_version": "1.2.0",
            "_model_name": "LayoutModel",
            "_view_count": null,
            "_view_module": "@jupyter-widgets/base",
            "_view_module_version": "1.2.0",
            "_view_name": "LayoutView",
            "align_content": null,
            "align_items": null,
            "align_self": null,
            "border": null,
            "bottom": null,
            "display": null,
            "flex": null,
            "flex_flow": null,
            "grid_area": null,
            "grid_auto_columns": null,
            "grid_auto_flow": null,
            "grid_auto_rows": null,
            "grid_column": null,
            "grid_gap": null,
            "grid_row": null,
            "grid_template_areas": null,
            "grid_template_columns": null,
            "grid_template_rows": null,
            "height": null,
            "justify_content": null,
            "justify_items": null,
            "left": null,
            "margin": null,
            "max_height": null,
            "max_width": null,
            "min_height": null,
            "min_width": null,
            "object_fit": null,
            "object_position": null,
            "order": null,
            "overflow": null,
            "overflow_x": null,
            "overflow_y": null,
            "padding": null,
            "right": null,
            "top": null,
            "visibility": null,
            "width": null
          }
        },
        "e9b4f65505414a098c8898676c93829d": {
          "model_module": "@jupyter-widgets/controls",
          "model_name": "DescriptionStyleModel",
          "model_module_version": "1.5.0",
          "state": {
            "_model_module": "@jupyter-widgets/controls",
            "_model_module_version": "1.5.0",
            "_model_name": "DescriptionStyleModel",
            "_view_count": null,
            "_view_module": "@jupyter-widgets/base",
            "_view_module_version": "1.2.0",
            "_view_name": "StyleView",
            "description_width": ""
          }
        },
        "1d39805ec58c4a6f80c019414f24a7c8": {
          "model_module": "@jupyter-widgets/base",
          "model_name": "LayoutModel",
          "model_module_version": "1.2.0",
          "state": {
            "_model_module": "@jupyter-widgets/base",
            "_model_module_version": "1.2.0",
            "_model_name": "LayoutModel",
            "_view_count": null,
            "_view_module": "@jupyter-widgets/base",
            "_view_module_version": "1.2.0",
            "_view_name": "LayoutView",
            "align_content": null,
            "align_items": null,
            "align_self": null,
            "border": null,
            "bottom": null,
            "display": null,
            "flex": null,
            "flex_flow": null,
            "grid_area": null,
            "grid_auto_columns": null,
            "grid_auto_flow": null,
            "grid_auto_rows": null,
            "grid_column": null,
            "grid_gap": null,
            "grid_row": null,
            "grid_template_areas": null,
            "grid_template_columns": null,
            "grid_template_rows": null,
            "height": null,
            "justify_content": null,
            "justify_items": null,
            "left": null,
            "margin": null,
            "max_height": null,
            "max_width": null,
            "min_height": null,
            "min_width": null,
            "object_fit": null,
            "object_position": null,
            "order": null,
            "overflow": null,
            "overflow_x": null,
            "overflow_y": null,
            "padding": null,
            "right": null,
            "top": null,
            "visibility": null,
            "width": null
          }
        },
        "9a7b442473654e22b170cb5e07022e2e": {
          "model_module": "@jupyter-widgets/controls",
          "model_name": "ProgressStyleModel",
          "model_module_version": "1.5.0",
          "state": {
            "_model_module": "@jupyter-widgets/controls",
            "_model_module_version": "1.5.0",
            "_model_name": "ProgressStyleModel",
            "_view_count": null,
            "_view_module": "@jupyter-widgets/base",
            "_view_module_version": "1.2.0",
            "_view_name": "StyleView",
            "bar_color": null,
            "description_width": ""
          }
        },
        "64365808af3a48688a70825916681879": {
          "model_module": "@jupyter-widgets/base",
          "model_name": "LayoutModel",
          "model_module_version": "1.2.0",
          "state": {
            "_model_module": "@jupyter-widgets/base",
            "_model_module_version": "1.2.0",
            "_model_name": "LayoutModel",
            "_view_count": null,
            "_view_module": "@jupyter-widgets/base",
            "_view_module_version": "1.2.0",
            "_view_name": "LayoutView",
            "align_content": null,
            "align_items": null,
            "align_self": null,
            "border": null,
            "bottom": null,
            "display": null,
            "flex": null,
            "flex_flow": null,
            "grid_area": null,
            "grid_auto_columns": null,
            "grid_auto_flow": null,
            "grid_auto_rows": null,
            "grid_column": null,
            "grid_gap": null,
            "grid_row": null,
            "grid_template_areas": null,
            "grid_template_columns": null,
            "grid_template_rows": null,
            "height": null,
            "justify_content": null,
            "justify_items": null,
            "left": null,
            "margin": null,
            "max_height": null,
            "max_width": null,
            "min_height": null,
            "min_width": null,
            "object_fit": null,
            "object_position": null,
            "order": null,
            "overflow": null,
            "overflow_x": null,
            "overflow_y": null,
            "padding": null,
            "right": null,
            "top": null,
            "visibility": null,
            "width": null
          }
        },
        "ff93b8131df8491e82619a3ef0916967": {
          "model_module": "@jupyter-widgets/controls",
          "model_name": "DescriptionStyleModel",
          "model_module_version": "1.5.0",
          "state": {
            "_model_module": "@jupyter-widgets/controls",
            "_model_module_version": "1.5.0",
            "_model_name": "DescriptionStyleModel",
            "_view_count": null,
            "_view_module": "@jupyter-widgets/base",
            "_view_module_version": "1.2.0",
            "_view_name": "StyleView",
            "description_width": ""
          }
        }
      }
    }
  },
  "cells": [
    {
      "cell_type": "markdown",
      "metadata": {
        "id": "view-in-github",
        "colab_type": "text"
      },
      "source": [
        "<a href=\"https://colab.research.google.com/github/yuyu990116/transformers_tutorials/blob/main/P1_base_knowledge.ipynb\" target=\"_parent\"><img src=\"https://colab.research.google.com/assets/colab-badge.svg\" alt=\"Open In Colab\"/></a>"
      ]
    },
    {
      "cell_type": "code",
      "execution_count": null,
      "metadata": {
        "id": "-ujYxpbZTVb7"
      },
      "outputs": [],
      "source": [
        "#transformers及其相关的库：transformers,Tokenizer,Datasets,Evaluate(各种评价指标)\n",
        "#PEFT（parameter efficient funetuning）高效微调模型的库，比如loara 用小量的参数调大模型\n",
        "#Accelerate 分布式训练解决方法，包括大模型的加载与推理解决方法，有限的空间加载大的模型\n",
        "#Optimum 优化加速库\n",
        "#Gradio 可视化部署 几行代码实现基于web交互的算法演示系统"
      ]
    },
    {
      "cell_type": "code",
      "source": [
        "!pip install gradio\n",
        "!pip install sentencepiece\n",
        "import gradio as gr\n",
        "from transformers import *"
      ],
      "metadata": {
        "id": "1kPiRfQdV3Y4"
      },
      "execution_count": null,
      "outputs": []
    },
    {
      "cell_type": "code",
      "source": [
        "gr.Interface.from_pipeline(pipeline(\"question-answering\", model=\"uer/roberta-base-chinese-extractive-qa\")).launch()"
      ],
      "metadata": {
        "id": "uUj1_5iGV-1u"
      },
      "execution_count": null,
      "outputs": []
    },
    {
      "cell_type": "code",
      "source": [
        "#查看pipeline支持的任务类型\n",
        "from transformers.pipelines import SUPPORTED_TASKS\n",
        "for k,v in SUPPORTED_TASKS.items():\n",
        "  print(k,v)"
      ],
      "metadata": {
        "id": "CAs4blImXSVA"
      },
      "execution_count": null,
      "outputs": []
    },
    {
      "cell_type": "code",
      "source": [
        "#pipeline调用,默认pipe.model.divece是cpu\n",
        "# model = xxx.from_pretrained\n",
        "# tokenizer = xxx.from_pretrained\n",
        "# device = 0 #这样会加载到gpu上\n",
        "# pipe = pipeline(\"your aim\",model = model,tokenizer = tokenizer,device = device)"
      ],
      "metadata": {
        "id": "NLxbCiPvXiqF"
      },
      "execution_count": null,
      "outputs": []
    },
    {
      "cell_type": "code",
      "source": [
        "model = AutoModelForSequenceClassification.from_pretrained(\"uer/roberta-base-finetuned-dianping-chinese\")\n",
        "tokenizer = AutoTokenizer.from_pretrained(\"uer/roberta-base-finetuned-dianping-chinese\")\n",
        "pipe = pipeline(\"text-classification\", model=model, tokenizer=tokenizer)"
      ],
      "metadata": {
        "id": "dyfn2_dcY-LY"
      },
      "execution_count": null,
      "outputs": []
    },
    {
      "cell_type": "code",
      "source": [
        "#查看pipe的参数\n",
        "pipe"
      ],
      "metadata": {
        "colab": {
          "base_uri": "https://localhost:8080/"
        },
        "id": "2hTY38MbZrhE",
        "outputId": "0ab6d465-730d-4899-9038-9b0328be0d20"
      },
      "execution_count": null,
      "outputs": [
        {
          "output_type": "execute_result",
          "data": {
            "text/plain": [
              "<transformers.pipelines.text_classification.TextClassificationPipeline at 0x7baf28fce740>"
            ]
          },
          "metadata": {},
          "execution_count": 13
        }
      ]
    },
    {
      "cell_type": "code",
      "source": [
        "from transformers import TextClassificationPipeline\n",
        "print(TextClassificationPipeline)\n",
        "#如果在编译器里的话直接ctrl进入这里，其中的call函数就是可调参数"
      ],
      "metadata": {
        "colab": {
          "base_uri": "https://localhost:8080/"
        },
        "id": "50_ClQ40Z-9r",
        "outputId": "e99b9336-5d97-4be1-c5f5-d698e6531293"
      },
      "execution_count": null,
      "outputs": [
        {
          "output_type": "stream",
          "name": "stdout",
          "text": [
            "<class 'transformers.pipelines.text_classification.TextClassificationPipeline'>\n"
          ]
        }
      ]
    },
    {
      "cell_type": "code",
      "source": [
        "import torch\n",
        "import time\n",
        "times = []\n",
        "for i in range(100):\n",
        "    torch.cuda.synchronize()#如果用gpu的话，可以用这个，，程序会等待 GPU 上的所有操作都完成，然后再继续执行下面的代码。这样可以确保在 CPU 继续执行的同时，GPU 上的操作已经完成，避免了可能的异步问题。\n",
        "    pipe(\"我觉得不太行！\")\n",
        "    torch.cuda.synchronize()\n",
        "    times.append(end - start)\n",
        "print(sum(times) / 100)"
      ],
      "metadata": {
        "id": "vXBpSo2MaAzN"
      },
      "execution_count": null,
      "outputs": []
    },
    {
      "cell_type": "code",
      "source": [
        "#从model的输出得到label\n",
        "out = model(**inputs)\n",
        "logits=out.logits\n",
        "logits=torch.softmax(logits,dim=-1)\n",
        "pred=torch.argmax(logits).item()\n",
        "res=model.config.id2label.get(pred)"
      ],
      "metadata": {
        "id": "cdIqddd_es0j"
      },
      "execution_count": null,
      "outputs": []
    },
    {
      "cell_type": "code",
      "source": [
        "#Tokenizer有fast和slow: fast是默认\n",
        "fast_tokenizer = AutoTokenizer.from_pretrained(\"uer/roberta-base-finetuned-dianping-chinese\")\n",
        "fast_tokenizer\n",
        "#在fast_tokenizer里面可以return_offsets_mapping=True,并且与inputs.word_ids()配合使用 inputs=Tokenizer(sentence,return_offsets_mapping=True)\n",
        "#return_offsets_mapping=True 比如dreaming就会拆成dream ing 它俩的word_ids就会是相同的\n",
        "#可以在QA中找到原句的起始和结束"
      ],
      "metadata": {
        "id": "ArW9BuM3fRjq"
      },
      "execution_count": null,
      "outputs": []
    },
    {
      "cell_type": "code",
      "source": [
        "# use_fast=False就是在用slow\n",
        "slow_tokenizer = AutoTokenizer.from_pretrained(\"uer/roberta-base-finetuned-dianping-chinese\", use_fast=False)\n",
        "slow_tokenizer"
      ],
      "metadata": {
        "id": "q3e8rUougAi1"
      },
      "execution_count": null,
      "outputs": []
    },
    {
      "cell_type": "code",
      "source": [
        "#加载chatglm-6b的tokenizer的时候要trust_remote_code=True 才能加载,因为这是它私有的\n",
        "tokenizer=AutoTokenizer.from_pretrained(\"microsoft/phi-2\",trust_remote_code=True)\n",
        "tokenizer.save_pretrained(\"chatglm-6b_tokenizer\")\n",
        "tokenizer=AutoTokenizer.from_pretrained(\"chatglm-6b_tokenizer\",trust_remote_code=True)"
      ],
      "metadata": {
        "id": "G8muqlQPhi0s"
      },
      "execution_count": null,
      "outputs": []
    },
    {
      "cell_type": "code",
      "source": [
        "#编码器模型——自编码模型 bert 文本分类，命名实体识别，阅读理解\n",
        "#解码器模型——自回归模型 gpt,bloom,llama 文本生成\n",
        "#编码-解码器模型——seq to seq模型  bart,T5,glm,mBAER 文本摘要，机器翻译\n",
        "#model head:连接在模型后的层，将模型的编码的表示结果进行映射以解决不同类型的任务"
      ],
      "metadata": {
        "id": "T--qH34ajb4-"
      },
      "execution_count": null,
      "outputs": []
    },
    {
      "cell_type": "code",
      "source": [
        "'''\n",
        "*Model：模型本身，只返回编码结果\n",
        "*ForCausalLM:解码器模型\n",
        "*ForMaskedLM:编码器模型 预测mask的token是什么\n",
        "*ForSeq2SeqLM\n",
        "*ForMultipleAnswering\n",
        "*ForSequenceClassification\n",
        "*ForTokenClassifacation\n",
        "'''"
      ],
      "metadata": {
        "id": "nyt7qcl8klDI"
      },
      "execution_count": null,
      "outputs": []
    },
    {
      "cell_type": "code",
      "source": [
        "#从网上下载模型：\n",
        "!git clone \"https://huggingface.co/hfl/rbt3\"  #这个会把tf等版本全下下来\n",
        "!git lfs clone \"https://huggingface.co/hfl/rbt3\" --include=\"*.bin\" #这个只下载pt版"
      ],
      "metadata": {
        "id": "4mF4NrtnlZT4"
      },
      "execution_count": null,
      "outputs": []
    },
    {
      "cell_type": "code",
      "source": [],
      "metadata": {
        "id": "YYLHN9g_l89F"
      },
      "execution_count": null,
      "outputs": []
    },
    {
      "cell_type": "code",
      "source": [
        "#查看模型在调用时可以使用的参数：\n",
        "from transformers import AutoConfig\n",
        "config = AutoConfig.from_pretrained(\"./rbt3/\")\n",
        "#然后再config.  稍作停顿，就能看到参数"
      ],
      "metadata": {
        "id": "R3hpFm9FmVIM"
      },
      "execution_count": null,
      "outputs": []
    },
    {
      "cell_type": "code",
      "source": [
        "from transformers import BertConfig #这里也是ctrl查看"
      ],
      "metadata": {
        "id": "MBZEBrepmdHk"
      },
      "execution_count": null,
      "outputs": []
    },
    {
      "cell_type": "code",
      "source": [
        "sen = \"弱小的我也有大梦想！\"\n",
        "tokenizer = AutoTokenizer.from_pretrained(\"rbt3\")\n",
        "inputs = tokenizer(sen, return_tensors=\"pt\")\n",
        "from transformers import AutoModelForSequenceClassification, BertForSequenceClassification\n",
        "clz_model = AutoModelForSequenceClassification.from_pretrained(\"rbt3\", num_labels=10)\n",
        "print(clz_model.config.num_labels)#查看模型句子分类的类别数（是num_labels个类，默认是2）\n",
        "clz_model(**inputs)\n"
      ],
      "metadata": {
        "id": "Zf9lJ4S_nWSh"
      },
      "execution_count": null,
      "outputs": []
    },
    {
      "cell_type": "code",
      "source": [
        "pooled_output是cls,size是batch*1*768"
      ],
      "metadata": {
        "id": "sVjXvojuogv_"
      },
      "execution_count": null,
      "outputs": []
    },
    {
      "cell_type": "code",
      "source": [
        "#划分数据集\n",
        "from torch.utils.data import random_split\n",
        "\n",
        "trainset, validset = random_split(dataset, lengths=[0.9, 0.1])\n",
        "len(trainset), len(validset)\n",
        "\n",
        "#第二种方法\n",
        "dataset = datasets[\"train\"]\n",
        "dataset.train_test_split(test_size=0.1)\n",
        "#第三种方法\n",
        "dataset = dataset[\"train\"]\n",
        "dataset.train_test_split(test_size=0.1, stratify_by_column=\"label\") # 分类数据集按照比例划分"
      ],
      "metadata": {
        "id": "PSL-kLIbvwgX"
      },
      "execution_count": null,
      "outputs": []
    },
    {
      "cell_type": "code",
      "source": [
        "#引入优化器\n",
        "from torch.optim import Adam\n",
        "optimizer = Adam(model.parameters(), lr=2e-5)"
      ],
      "metadata": {
        "id": "WWGcM2Dzv0BH"
      },
      "execution_count": null,
      "outputs": []
    },
    {
      "cell_type": "code",
      "source": [
        "#训练与验证\n",
        "if torch.cuda.is_available():\n",
        "    model = model.cuda()\n",
        "def evaluate():\n",
        "    model.eval()\n",
        "    acc_num = 0\n",
        "    with torch.inference_mode():\n",
        "        for batch in validloader:\n",
        "            if torch.cuda.is_available():\n",
        "                batch = {k: v.cuda() for k, v in batch.items()}\n",
        "            output = model(**batch)\n",
        "            pred = torch.argmax(output.logits, dim=-1)\n",
        "            acc_num += (pred.long() == batch[\"labels\"].long()).float().sum()\n",
        "    return acc_num / len(validset)\n",
        "\n",
        "def train(epoch=3, log_step=100):\n",
        "    global_step = 0\n",
        "    for ep in range(epoch):\n",
        "        model.train()\n",
        "        for batch in trainloader:\n",
        "            if torch.cuda.is_available():\n",
        "                batch = {k: v.cuda() for k, v in batch.items()}\n",
        "            optimizer.zero_grad()\n",
        "            output = model(**batch)\n",
        "            output.loss.backward()\n",
        "            optimizer.step()\n",
        "            if global_step % log_step == 0:\n",
        "                print(f\"ep: {ep}, global_step: {global_step}, loss: {output.loss.item()}\")\n",
        "            global_step += 1\n",
        "        acc = evaluate()\n",
        "        print(f\"ep: {ep}, acc: {acc}\")"
      ],
      "metadata": {
        "id": "tw93P1-jv1nn"
      },
      "execution_count": null,
      "outputs": []
    },
    {
      "cell_type": "code",
      "source": [
        "#模型预测\n",
        "sen = \"我觉得这家酒店不错，饭很好吃！\"\n",
        "id2_label = {0: \"差评！\", 1: \"好评！\"}\n",
        "model.eval()\n",
        "with torch.inference_mode():\n",
        "    inputs = tokenizer(sen, return_tensors=\"pt\")\n",
        "    inputs = {k: v.cuda() for k, v in inputs.items()}\n",
        "    logits = model(**inputs).logits\n",
        "    pred = torch.argmax(logits, dim=-1)\n",
        "    print(f\"输入：{sen}\\n模型预测结果:{id2_label.get(pred.item())}\")"
      ],
      "metadata": {
        "id": "BtZe6oCdv39k"
      },
      "execution_count": null,
      "outputs": []
    },
    {
      "cell_type": "code",
      "source": [
        "#模型预测简便版：\n",
        "from transformers import pipeline\n",
        "\n",
        "model.config.id2label = id2_label\n",
        "pipe = pipeline(\"text-classification\", model=model, tokenizer=tokenizer, device=0)\n",
        "pipe(sen)"
      ],
      "metadata": {
        "id": "WzY2fNmBwEJ3"
      },
      "execution_count": null,
      "outputs": []
    },
    {
      "cell_type": "code",
      "source": [
        "#Datasets加载数据库\n",
        "dataset = load_dataset(\"madao33/new-title-chinese\", split=\"train[:50%]\")\n",
        "dataset = load_dataset(\"madao33/new-title-chinese\", split=[\"train[:50%]\", \"train[50%:]\"])\n",
        "datasets[\"train\"].features\n",
        "#{'title': Value(dtype='string', id=None),\n",
        "#  'content': Value(dtype='string', id=None)}\n"
      ],
      "metadata": {
        "id": "ZQgOZHYn-PqC"
      },
      "execution_count": null,
      "outputs": []
    },
    {
      "cell_type": "code",
      "source": [
        "#数据过滤\n",
        "filter_dataset = datasets[\"train\"].filter(lambda example: \"中国\" in example[\"title\"])\n",
        "start_with_ar = list(filter(lambda x: x['text'].startswith('选择'),dataset))"
      ],
      "metadata": {
        "id": "KoNIXBTWG1jD"
      },
      "execution_count": null,
      "outputs": []
    },
    {
      "cell_type": "code",
      "source": [
        "#数据映射\n",
        "def f(data):\n",
        "    data['text'] = 'My sentence: ' + data['text']\n",
        "    return data\n",
        "datatset_map = dataset.map(f)\n",
        "datatset_map['text'][:5]"
      ],
      "metadata": {
        "id": "AKApyFCNHOEp"
      },
      "execution_count": null,
      "outputs": []
    },
    {
      "cell_type": "code",
      "source": [
        "#保存与加载\n",
        "datatset_map.save_to_disk(\"./processed_data\")\n",
        "processed_datasets = load_from_disk(\"./processed_data\")\n",
        "dataset = load_dataset(\"csv\", data_files=\"./ChnSentiCorp_htl_all.csv\", split=\"train\")\n",
        "dataset = Dataset.from_csv(\"./ChnSentiCorp_htl_all.csv\")\n",
        "dataset = load_dataset(\"csv\", data_files=[\"./all_data/ChnSentiCorp_htl_all.csv\", \"./all_data/ChnSentiCorp_htl_all copy.csv\"], split='train')\n",
        "dataset = load_dataset(\"json\", data_files=\"./all_data/ChnSentiCorp_htl_all.json\", field=\"data\") #必须有field\n",
        "#也可以用脚本来调用，github：https://github.com/zyds/transformers-code/blob/master/01-Getting%20Started/05-datasets/datasets.ipynb"
      ],
      "metadata": {
        "id": "qhQF86mQLL_K"
      },
      "execution_count": null,
      "outputs": []
    },
    {
      "cell_type": "code",
      "source": [
        "#通过预先加载的其他格式转换加载数据集\n",
        "import pandas as pd\n",
        "data = pd.read_csv(\"./ChnSentiCorp_htl_all.csv\")\n",
        "dataset = Dataset.from_pandas(data)\n",
        "\n",
        "# List格式的数据需要内嵌{}，明确数据字段\n",
        "data = [{\"text\": \"abc\"}, {\"text\": \"def\"}]\n",
        "# data = [\"abc\", \"def\"]\n",
        "Dataset.from_list(data)\n",
        "# Dataset({\n",
        "#     features: ['text'],\n",
        "#     num_rows: 2\n",
        "# })"
      ],
      "metadata": {
        "id": "KL0yGozILwdr"
      },
      "execution_count": null,
      "outputs": []
    },
    {
      "cell_type": "code",
      "source": [
        "!pip install datasets\n",
        "from datasets import load_dataset\n",
        "\n",
        "dataset = load_dataset(path='lansinuote/ChnSentiCorp')"
      ],
      "metadata": {
        "colab": {
          "base_uri": "https://localhost:8080/"
        },
        "id": "eet1cuvChDEZ",
        "outputId": "96cb0b45-654b-4c34-c877-cb796a1193bc"
      },
      "execution_count": null,
      "outputs": [
        {
          "output_type": "stream",
          "name": "stdout",
          "text": [
            "Requirement already satisfied: datasets in /usr/local/lib/python3.10/dist-packages (2.16.0)\n",
            "Requirement already satisfied: filelock in /usr/local/lib/python3.10/dist-packages (from datasets) (3.13.1)\n",
            "Requirement already satisfied: numpy>=1.17 in /usr/local/lib/python3.10/dist-packages (from datasets) (1.23.5)\n",
            "Requirement already satisfied: pyarrow>=8.0.0 in /usr/local/lib/python3.10/dist-packages (from datasets) (10.0.1)\n",
            "Requirement already satisfied: pyarrow-hotfix in /usr/local/lib/python3.10/dist-packages (from datasets) (0.6)\n",
            "Requirement already satisfied: dill<0.3.8,>=0.3.0 in /usr/local/lib/python3.10/dist-packages (from datasets) (0.3.7)\n",
            "Requirement already satisfied: pandas in /usr/local/lib/python3.10/dist-packages (from datasets) (1.5.3)\n",
            "Requirement already satisfied: requests>=2.19.0 in /usr/local/lib/python3.10/dist-packages (from datasets) (2.31.0)\n",
            "Requirement already satisfied: tqdm>=4.62.1 in /usr/local/lib/python3.10/dist-packages (from datasets) (4.66.1)\n",
            "Requirement already satisfied: xxhash in /usr/local/lib/python3.10/dist-packages (from datasets) (3.4.1)\n",
            "Requirement already satisfied: multiprocess in /usr/local/lib/python3.10/dist-packages (from datasets) (0.70.15)\n",
            "Requirement already satisfied: fsspec[http]<=2023.10.0,>=2023.1.0 in /usr/local/lib/python3.10/dist-packages (from datasets) (2023.6.0)\n",
            "Requirement already satisfied: aiohttp in /usr/local/lib/python3.10/dist-packages (from datasets) (3.9.1)\n",
            "Requirement already satisfied: huggingface-hub>=0.19.4 in /usr/local/lib/python3.10/dist-packages (from datasets) (0.19.4)\n",
            "Requirement already satisfied: packaging in /usr/local/lib/python3.10/dist-packages (from datasets) (23.2)\n",
            "Requirement already satisfied: pyyaml>=5.1 in /usr/local/lib/python3.10/dist-packages (from datasets) (6.0.1)\n",
            "Requirement already satisfied: attrs>=17.3.0 in /usr/local/lib/python3.10/dist-packages (from aiohttp->datasets) (23.1.0)\n",
            "Requirement already satisfied: multidict<7.0,>=4.5 in /usr/local/lib/python3.10/dist-packages (from aiohttp->datasets) (6.0.4)\n",
            "Requirement already satisfied: yarl<2.0,>=1.0 in /usr/local/lib/python3.10/dist-packages (from aiohttp->datasets) (1.9.4)\n",
            "Requirement already satisfied: frozenlist>=1.1.1 in /usr/local/lib/python3.10/dist-packages (from aiohttp->datasets) (1.4.1)\n",
            "Requirement already satisfied: aiosignal>=1.1.2 in /usr/local/lib/python3.10/dist-packages (from aiohttp->datasets) (1.3.1)\n",
            "Requirement already satisfied: async-timeout<5.0,>=4.0 in /usr/local/lib/python3.10/dist-packages (from aiohttp->datasets) (4.0.3)\n",
            "Requirement already satisfied: typing-extensions>=3.7.4.3 in /usr/local/lib/python3.10/dist-packages (from huggingface-hub>=0.19.4->datasets) (4.5.0)\n",
            "Requirement already satisfied: charset-normalizer<4,>=2 in /usr/local/lib/python3.10/dist-packages (from requests>=2.19.0->datasets) (3.3.2)\n",
            "Requirement already satisfied: idna<4,>=2.5 in /usr/local/lib/python3.10/dist-packages (from requests>=2.19.0->datasets) (3.6)\n",
            "Requirement already satisfied: urllib3<3,>=1.21.1 in /usr/local/lib/python3.10/dist-packages (from requests>=2.19.0->datasets) (2.0.7)\n",
            "Requirement already satisfied: certifi>=2017.4.17 in /usr/local/lib/python3.10/dist-packages (from requests>=2.19.0->datasets) (2023.11.17)\n",
            "Requirement already satisfied: python-dateutil>=2.8.1 in /usr/local/lib/python3.10/dist-packages (from pandas->datasets) (2.8.2)\n",
            "Requirement already satisfied: pytz>=2020.1 in /usr/local/lib/python3.10/dist-packages (from pandas->datasets) (2023.3.post1)\n",
            "Requirement already satisfied: six>=1.5 in /usr/local/lib/python3.10/dist-packages (from python-dateutil>=2.8.1->pandas->datasets) (1.16.0)\n"
          ]
        }
      ]
    },
    {
      "cell_type": "code",
      "source": [
        "dataset"
      ],
      "metadata": {
        "id": "MXUdifBVhpao"
      },
      "execution_count": null,
      "outputs": []
    },
    {
      "cell_type": "code",
      "source": [
        "from transformers import AutoTokenizer\n",
        "tokenizer = AutoTokenizer.from_pretrained(\"bert-base-chinese\")\n",
        "def process_function(examples):\n",
        "    tokenized_examples = tokenizer(examples[\"text\"], max_length=128, truncation=True, padding=\"max_length\")\n",
        "    tokenized_examples[\"labels\"] = examples[\"label\"] #注意是labels=label！！\n",
        "    return tokenized_examples\n",
        "tokenized_dataset = dataset.map(process_function, batched=True, remove_columns=dataset[\"train\"].column_names) #如果这个tokenizer支持fast的话，这里batched=True就会加速编码\n",
        "#remove_columns=dataset[\"train\"].column_names会把原来数据库里面的key去掉，只留下inputids,attentionmask,tokentypeid和labels"
      ],
      "metadata": {
        "id": "RyalxF0eMRTR",
        "colab": {
          "base_uri": "https://localhost:8080/",
          "height": 197,
          "referenced_widgets": [
            "69c895d480bd43b3a4e5e0cc987ac02b",
            "00c285d9fa4740d989caba5f7d454e81",
            "82f71113d3724d20bb4658ffb59f407a",
            "edef4d48b37042dcbda8a552cbc82680",
            "e909a2e4bfb54a5fa3c5580a6b7aff74",
            "97b4b3c02d5f46deb41b2ab1047fabbd",
            "221c1d5a38214365ad4a76232207886b",
            "2a3a9715ea78470f86c701bdd6480628",
            "07cbbef6df3749fd87bea2b94895e52e",
            "7c8e527d66284999bebad5b929ef64f0",
            "ab26d77b87f0495f8d5de536e7df1969",
            "182fcd0cf4e740eba34a318535418ea9",
            "8486e92d44584872b05c7885240e80e5",
            "438d351556f2476788148c9c4d586ca4",
            "d50f6173cedf4de6ae6d5ce9ecc04c56",
            "c916f193ad2849258fb7495449c07bb6",
            "ff86b47fd6cc4f88b173553736eebf48",
            "bd7e85d3acf94a94b9efbe5721dbc364",
            "94174a7e06744f51b338db0106eaf5e2",
            "4714d86fb01b4ebd84f51eb0b0ce9526",
            "bab30f04ad824310870a79c44c049479",
            "4e70e002f48641598d6398223ffb370a",
            "444f655104ed42288f8b1b555baa4a73",
            "7095f9943f854a0093080d3a0d3013dc",
            "1634755dc99a44219c92e6841209b517",
            "ed0a3f82f6184d6aa23fcbb4798c996b",
            "50dc45eba3b046cbac66b84b5e1b5fe3",
            "d66ceabc0d094951a2dfbd872796862c",
            "e9b4f65505414a098c8898676c93829d",
            "1d39805ec58c4a6f80c019414f24a7c8",
            "9a7b442473654e22b170cb5e07022e2e",
            "64365808af3a48688a70825916681879",
            "ff93b8131df8491e82619a3ef0916967"
          ]
        },
        "outputId": "335087ad-3a0a-444c-f0a0-8222a1ee0ceb"
      },
      "execution_count": null,
      "outputs": [
        {
          "output_type": "display_data",
          "data": {
            "text/plain": [
              "Map:   0%|          | 0/9600 [00:00<?, ? examples/s]"
            ],
            "application/vnd.jupyter.widget-view+json": {
              "version_major": 2,
              "version_minor": 0,
              "model_id": "69c895d480bd43b3a4e5e0cc987ac02b"
            }
          },
          "metadata": {}
        },
        {
          "output_type": "display_data",
          "data": {
            "text/plain": [
              "Map:   0%|          | 0/1200 [00:00<?, ? examples/s]"
            ],
            "application/vnd.jupyter.widget-view+json": {
              "version_major": 2,
              "version_minor": 0,
              "model_id": "182fcd0cf4e740eba34a318535418ea9"
            }
          },
          "metadata": {}
        },
        {
          "output_type": "display_data",
          "data": {
            "text/plain": [
              "Map:   0%|          | 0/1200 [00:00<?, ? examples/s]"
            ],
            "application/vnd.jupyter.widget-view+json": {
              "version_major": 2,
              "version_minor": 0,
              "model_id": "444f655104ed42288f8b1b555baa4a73"
            }
          },
          "metadata": {}
        }
      ]
    },
    {
      "cell_type": "code",
      "source": [
        "def process_function(examples,tokenizer=tokenizer):\n",
        "    tokenized_examples = tokenizer(examples[\"text\"], max_length=128, truncation=True)\n",
        "    tokenized_examples[\"labels\"] = examples[\"label\"]\n",
        "    return tokenized_examples\n",
        "tokenized_dataset = dataset.map(process_function,num_proc=4,remove_columns=dataset[\"train\"].column_names) #tokenizer不支持fast的时候，使用多进程。num_proc是多进程的进程数，在使用这个代码的时候需要给processfunction传入tokenizer"
      ],
      "metadata": {
        "id": "hJTZGa7xgbfG"
      },
      "execution_count": null,
      "outputs": []
    },
    {
      "cell_type": "code",
      "source": [
        "tokenized_dataset"
      ],
      "metadata": {
        "colab": {
          "base_uri": "https://localhost:8080/"
        },
        "id": "9_pYCqlC5XHy",
        "outputId": "6c5f5772-cb0d-4d09-ab9b-f29f2de08d25"
      },
      "execution_count": null,
      "outputs": [
        {
          "output_type": "execute_result",
          "data": {
            "text/plain": [
              "DatasetDict({\n",
              "    train: Dataset({\n",
              "        features: ['input_ids', 'token_type_ids', 'attention_mask', 'labels'],\n",
              "        num_rows: 9600\n",
              "    })\n",
              "    validation: Dataset({\n",
              "        features: ['input_ids', 'token_type_ids', 'attention_mask', 'labels'],\n",
              "        num_rows: 1200\n",
              "    })\n",
              "    test: Dataset({\n",
              "        features: ['input_ids', 'token_type_ids', 'attention_mask', 'labels'],\n",
              "        num_rows: 1200\n",
              "    })\n",
              "})"
            ]
          },
          "metadata": {},
          "execution_count": 11
        }
      ]
    },
    {
      "cell_type": "code",
      "source": [
        "a=[{'role': 'user', 'content': '你好'}, {'role': 'assistant', 'content': '你好，我是安民智能医学助手，请问有什么问题需要我帮助你解答吗？'}, {'role': 'user', 'content': '我头疼'}, {'role': 'assistant', 'content': '头疼是一种常见的症状，可能由多种原因引起。首先，我们需要了解你的具体症状。你是否有其他不适感，比如恶心、呕吐、视力模糊等？'}, {'role': 'user', 'content': '有点恶心'}, {'role': 'assistant', 'content': '恶心可能是头疼的一个常见伴随症状。除了头疼和恶心，你还有其他不适感吗？比如头晕、乏力、视力模糊等？'}, {'role': 'user', 'content': '头晕'}, {'role': 'assistant', 'content': '头晕和头疼同时出现可能是一种颅内疾病的表现，比如颅内出血、脑血管疾病等。建议你尽快就医，进行详细的检查和评估。'}, {'role': 'user', 'content': '好的'}, {'role': 'assistant', 'content': '如果你有其他疑问或需要进一步帮助，请随时告诉我。我会尽力为你提供帮助。'}]\n",
        "from datasets import Dataset\n",
        "d=Dataset.from_list(a)\n",
        "d\n",
        "for data in d:\n",
        "  print(data)"
      ],
      "metadata": {
        "id": "9Al-zGiZ5ZK3"
      },
      "execution_count": null,
      "outputs": []
    },
    {
      "cell_type": "code",
      "source": [
        "#datacollator\n",
        "from transformers import DataCollatorWithPadding\n",
        "collator = DataCollatorWithPadding(tokenizer=tokenizer) #官方提供的collate_fn，但是要求dataset只能有inputid......那四个key\n",
        "from torch.utils.data import DataLoader\n",
        "dl = DataLoader(tokenized_dataset,batch_size=16,collate_fn=collator,shuffle=True)"
      ],
      "metadata": {
        "id": "B8mooNJn8YAc"
      },
      "execution_count": null,
      "outputs": []
    },
    {
      "cell_type": "code",
      "source": [
        "#Evaluate\n",
        "!pip install evaluate\n",
        "import evaluate\n",
        "accuracy = evaluate.load(\"accuracy\")\n",
        "print(accuracy.description)\n",
        "print(accuracy.inputs_description)\n",
        "accuracy = evaluate.load(\"accuracy\")\n",
        "results = accuracy.compute(references=[0, 1, 2, 0, 1, 2], predictions=[0, 1, 1, 2, 1, 0])\n",
        "print(results)\n",
        "#迭代计算：\n",
        "for ref, pred in zip([0,1,0,1], [1,0,0,1]):\n",
        "    accuracy.add(references=ref, predictions=pred)\n",
        "print(accuracy.compute())\n",
        "#batch的迭代计算：\n",
        "accuracy = evaluate.load(\"accuracy\")\n",
        "for refs, preds in zip([[0,1],[0,1]], [[1,0],[0,1]]):\n",
        "    accuracy.add_batch(references=refs, predictions=preds)\n",
        "print(accuracy.compute())\n",
        "#多个评估指标的计算\n",
        "clf_metrics = evaluate.combine([\"accuracy\", \"f1\", \"recall\", \"precision\"])\n",
        "clf_metrics\n",
        "print(clf_metrics.compute(predictions=[0, 1, 0], references=[0, 1, 1]))\n",
        "# {'accuracy': 0.6666666666666666,\n",
        "#  'f1': 0.6666666666666666,\n",
        "#  'recall': 0.5,\n",
        "#  'precision': 1.0}\n",
        "#评估结果对比可视化\n",
        "from evaluate.visualization import radar_plot\n",
        "\n",
        "data = [\n",
        "   {\"accuracy\": 0.99, \"precision\": 0.8, \"f1\": 0.95, \"latency_in_seconds\": 33.6},\n",
        "   {\"accuracy\": 0.98, \"precision\": 0.87, \"f1\": 0.91, \"latency_in_seconds\": 11.2},\n",
        "   {\"accuracy\": 0.98, \"precision\": 0.78, \"f1\": 0.88, \"latency_in_seconds\": 87.6},\n",
        "   {\"accuracy\": 0.88, \"precision\": 0.78, \"f1\": 0.81, \"latency_in_seconds\": 101.6}\n",
        "   ]\n",
        "model_names = [\"Model 1\", \"Model 2\", \"Model 3\", \"Model 4\"]\n",
        "plot = radar_plot(data=data, model_names=model_names)"
      ],
      "metadata": {
        "id": "XTbFDQMU-nOG"
      },
      "execution_count": null,
      "outputs": []
    },
    {
      "cell_type": "code",
      "source": [
        "#huggingface的Tasks里面有很多类任务的模型等，里面也有任务对应可用的评价指标"
      ],
      "metadata": {
        "id": "9CfkVj-z2RJ_"
      },
      "execution_count": null,
      "outputs": []
    },
    {
      "cell_type": "code",
      "source": [],
      "metadata": {
        "id": "1grSz4Wr20BT"
      },
      "execution_count": null,
      "outputs": []
    }
  ]
}