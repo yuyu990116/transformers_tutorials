{
  "nbformat": 4,
  "nbformat_minor": 0,
  "metadata": {
    "colab": {
      "provenance": [],
      "authorship_tag": "ABX9TyP39665S5iS8+n+V9b+ORAE",
      "include_colab_link": true
    },
    "kernelspec": {
      "name": "python3",
      "display_name": "Python 3"
    },
    "language_info": {
      "name": "python"
    }
  },
  "cells": [
    {
      "cell_type": "markdown",
      "metadata": {
        "id": "view-in-github",
        "colab_type": "text"
      },
      "source": [
        "<a href=\"https://colab.research.google.com/github/yuyu990116/transformers_tutorials/blob/main/P4_Qlora_4bit.ipynb\" target=\"_parent\"><img src=\"https://colab.research.google.com/assets/colab-badge.svg\" alt=\"Open In Colab\"/></a>"
      ]
    },
    {
      "cell_type": "code",
      "source": [
        "#llama： 前面也是都跟之前的llama训练一样，导入模型的时候就不一样了\n",
        "model = AutoModelForCausalLM.from_pretrained(\"D:/Pretrained_models/modelscope/Llama-2-13b-ms\", low_cpu_mem_usage=True,\n",
        "                                             torch_dtype=torch.half, device_map=\"auto\", load_in_4bit=True, bnb_4bit_compute_dtype=torch.half,\n",
        "                                             bnb_4bit_quant_type=\"nf4\", bnb_4bit_use_double_quant=True)\n",
        "#bnb_4bit_compute_dtype=torch.half这个半精度可能会有溢出的问题，如果可以的话还是建议写bf16\n",
        "for name, param in model.named_parameters():\n",
        "    print(name, param.shape, param.dtype)"
      ],
      "metadata": {
        "id": "MRDiL_KIwbDq"
      },
      "execution_count": null,
      "outputs": []
    },
    {
      "cell_type": "code",
      "source": [
        "model.enable_input_require_grads()\n",
        "args = TrainingArguments(\n",
        "    output_dir=\"./chatbot\",\n",
        "    per_device_train_batch_size=1,\n",
        "    gradient_accumulation_steps=32,\n",
        "    logging_steps=10,\n",
        "    num_train_epochs=1,\n",
        "    gradient_checkpointing=True,\n",
        "    optim=\"paged_adamw_32bit\" #这个就是qlora的分页优化器，还有paged_adamw_8bit，paged_lion_32bit/8bit\n",
        ")\n",
        "#可以点击TrainingArguments查看都有哪些参数，有一个optimizernames，里面带BNB或者8BIT的都是bitsandbytes提供的优化器，其他都是Huggingface自带的\n",
        "\n",
        "trainer = Trainer(\n",
        "    model=model,\n",
        "    args=args,\n",
        "    train_dataset=tokenized_ds.select(range(6000)),\n",
        "    data_collator=DataCollatorForSeq2Seq(tokenizer=tokenizer, padding=True),\n",
        ")"
      ],
      "metadata": {
        "id": "Jjh5S5Jh8u7I"
      },
      "execution_count": null,
      "outputs": []
    },
    {
      "cell_type": "code",
      "source": [],
      "metadata": {
        "id": "aMo1xQOB9c6y"
      },
      "execution_count": null,
      "outputs": []
    },
    {
      "cell_type": "code",
      "source": [
        "#chatglm3：同理\n",
        "model = AutoModelForCausalLM.from_pretrained(\"d:/Pretrained_models/ZhipuAI/chatglm3-6b-base/\", trust_remote_code=True, low_cpu_mem_usage=True,\n",
        "                                             torch_dtype=torch.half, device_map=\"auto\", load_in_4bit=True, bnb_4bit_compute_dtype=torch.half,\n",
        "                                             bnb_4bit_quant_type=\"nf4\", bnb_4bit_use_double_quant=True)\n",
        "#bnb_4bit_compute_dtype=torch.half这个半精度可能会有溢出的问题，如果可以的话还是建议写bf16\n",
        "for name, param in model.named_parameters():\n",
        "    print(name, param.shape, param.dtype)\n",
        "\n",
        "model.enable_input_require_grads()\n",
        "args = TrainingArguments(\n",
        "    output_dir=\"./chatbot\",\n",
        "    per_device_train_batch_size=1,\n",
        "    gradient_accumulation_steps=32,\n",
        "    logging_steps=10,\n",
        "    num_train_epochs=1,\n",
        "    learning_rate=1e-4,\n",
        "    remove_unused_columns=False,\n",
        "    gradient_checkpointing=True,\n",
        "    optim=\"paged_adamw_32bit\"#这个就是qlora的分页优化器，还有paged_adamw_8bit，paged_lion_32bit/8bit\n",
        ")\n",
        "#可以点击TrainingArguments查看都有哪些参数，有一个optimizernames，里面带BNB或者8BIT的都是bitsandbytes提供的优化器，其他都是Huggingface自带的\n",
        "trainer = Trainer(\n",
        "    model=model,\n",
        "    args=args,\n",
        "    train_dataset=tokenized_ds.select(range(6000)),\n",
        "    data_collator=DataCollatorForSeq2Seq(tokenizer=tokenizer, padding=True),\n",
        ")"
      ],
      "metadata": {
        "id": "4ZuV0p5G9dCY"
      },
      "execution_count": null,
      "outputs": []
    },
    {
      "cell_type": "markdown",
      "source": [
        "internlm20B只需要14G的显存；llama2的13B模型只需要约8-9个G显存；chatglm3的6B模型只需要5-6个G的显存"
      ],
      "metadata": {
        "id": "uY6-i0rS-Mfr"
      }
    }
  ]
}